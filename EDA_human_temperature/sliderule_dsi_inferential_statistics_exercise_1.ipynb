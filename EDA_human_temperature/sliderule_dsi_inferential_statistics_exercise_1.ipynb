{
 "cells": [
  {
   "cell_type": "markdown",
   "metadata": {},
   "source": [
    "# What is the True Normal Human Body Temperature? \n",
    "\n",
    "#### Background\n",
    "\n",
    "The mean normal body temperature was held to be 37$^{\\circ}$C or 98.6$^{\\circ}$F for more than 120 years since it was first conceptualized and reported by Carl Wunderlich in a famous 1868 book. But, is this value statistically correct?"
   ]
  },
  {
   "cell_type": "markdown",
   "metadata": {},
   "source": [
    "<h3>Exercises</h3>\n",
    "\n",
    "<p>In this exercise, you will analyze a dataset of human body temperatures and employ the concepts of hypothesis testing, confidence intervals, and statistical significance.</p>\n",
    "\n",
    "<p>Answer the following questions <b>in this notebook below and submit to your Github account</b>.</p> \n",
    "\n",
    "<ol>\n",
    "<li>  Is the distribution of body temperatures normal? \n",
    "    <ul>\n",
    "    <li> Although this is not a requirement for the Central Limit Theorem to hold (read the introduction on Wikipedia's page about the CLT carefully: https://en.wikipedia.org/wiki/Central_limit_theorem), it gives us some peace of mind that the population may also be normally distributed if we assume that this sample is representative of the population.\n",
    "    <li> Think about the way you're going to check for the normality of the distribution. Graphical methods are usually used first, but there are also other ways: https://en.wikipedia.org/wiki/Normality_test\n",
    "    </ul>\n",
    "<li>  Is the sample size large? Are the observations independent?\n",
    "    <ul>\n",
    "    <li> Remember that this is a condition for the Central Limit Theorem, and hence the statistical tests we are using, to apply.\n",
    "    </ul>\n",
    "<li>  Is the true population mean really 98.6 degrees F?\n",
    "    <ul>\n",
    "    <li> First, try a bootstrap hypothesis test.\n",
    "    <li> Now, let's try frequentist statistical testing. Would you use a one-sample or two-sample test? Why?\n",
    "    <li> In this situation, is it appropriate to use the $t$ or $z$ statistic? \n",
    "    <li> Now try using the other test. How is the result be different? Why?\n",
    "    </ul>\n",
    "<li>  Draw a small sample of size 10 from the data and repeat both frequentist tests. \n",
    "    <ul>\n",
    "    <li> Which one is the correct one to use? \n",
    "    <li> What do you notice? What does this tell you about the difference in application of the $t$ and $z$ statistic?\n",
    "    </ul>\n",
    "<li>  At what temperature should we consider someone's temperature to be \"abnormal\"?\n",
    "    <ul>\n",
    "    <li> As in the previous example, try calculating everything using the boostrap approach, as well as the frequentist approach.\n",
    "    <li> Start by computing the margin of error and confidence interval. When calculating the confidence interval, keep in mind that you should use the appropriate formula for one draw, and not N draws.\n",
    "    </ul>\n",
    "<li>  Is there a significant difference between males and females in normal temperature?\n",
    "    <ul>\n",
    "    <li> What testing approach did you use and why?\n",
    "    <li> Write a story with your conclusion in the context of the original problem.\n",
    "    </ul>\n",
    "</ol>\n",
    "\n",
    "You can include written notes in notebook cells using Markdown: \n",
    "   - In the control panel at the top, choose Cell > Cell Type > Markdown\n",
    "   - Markdown syntax: http://nestacms.com/docs/creating-content/markdown-cheat-sheet\n",
    "\n",
    "#### Resources\n",
    "\n",
    "+ Information and data sources: http://www.amstat.org/publications/jse/datasets/normtemp.txt, http://www.amstat.org/publications/jse/jse_data_archive.htm\n",
    "+ Markdown syntax: http://nestacms.com/docs/creating-content/markdown-cheat-sheet\n",
    "\n",
    "****"
   ]
  },
  {
   "cell_type": "code",
   "execution_count": 1,
   "metadata": {
    "collapsed": true
   },
   "outputs": [],
   "source": [
    "import numpy as np\n",
    "import pandas as pd\n",
    "\n",
    "df = pd.read_csv('data/human_body_temperature.csv')"
   ]
  },
  {
   "cell_type": "markdown",
   "metadata": {},
   "source": [
    "### First look at the dataset"
   ]
  },
  {
   "cell_type": "code",
   "execution_count": 2,
   "metadata": {},
   "outputs": [
    {
     "data": {
      "text/html": [
       "<div>\n",
       "<style>\n",
       "    .dataframe thead tr:only-child th {\n",
       "        text-align: right;\n",
       "    }\n",
       "\n",
       "    .dataframe thead th {\n",
       "        text-align: left;\n",
       "    }\n",
       "\n",
       "    .dataframe tbody tr th {\n",
       "        vertical-align: top;\n",
       "    }\n",
       "</style>\n",
       "<table border=\"1\" class=\"dataframe\">\n",
       "  <thead>\n",
       "    <tr style=\"text-align: right;\">\n",
       "      <th></th>\n",
       "      <th>temperature</th>\n",
       "      <th>gender</th>\n",
       "      <th>heart_rate</th>\n",
       "    </tr>\n",
       "  </thead>\n",
       "  <tbody>\n",
       "    <tr>\n",
       "      <th>0</th>\n",
       "      <td>99.3</td>\n",
       "      <td>F</td>\n",
       "      <td>68.0</td>\n",
       "    </tr>\n",
       "    <tr>\n",
       "      <th>1</th>\n",
       "      <td>98.4</td>\n",
       "      <td>F</td>\n",
       "      <td>81.0</td>\n",
       "    </tr>\n",
       "    <tr>\n",
       "      <th>2</th>\n",
       "      <td>97.8</td>\n",
       "      <td>M</td>\n",
       "      <td>73.0</td>\n",
       "    </tr>\n",
       "    <tr>\n",
       "      <th>3</th>\n",
       "      <td>99.2</td>\n",
       "      <td>F</td>\n",
       "      <td>66.0</td>\n",
       "    </tr>\n",
       "    <tr>\n",
       "      <th>4</th>\n",
       "      <td>98.0</td>\n",
       "      <td>F</td>\n",
       "      <td>73.0</td>\n",
       "    </tr>\n",
       "  </tbody>\n",
       "</table>\n",
       "</div>"
      ],
      "text/plain": [
       "   temperature gender  heart_rate\n",
       "0         99.3      F        68.0\n",
       "1         98.4      F        81.0\n",
       "2         97.8      M        73.0\n",
       "3         99.2      F        66.0\n",
       "4         98.0      F        73.0"
      ]
     },
     "execution_count": 2,
     "metadata": {},
     "output_type": "execute_result"
    }
   ],
   "source": [
    "# Your work here.\n",
    "df.head()"
   ]
  },
  {
   "cell_type": "code",
   "execution_count": 3,
   "metadata": {},
   "outputs": [
    {
     "data": {
      "text/html": [
       "<div>\n",
       "<style>\n",
       "    .dataframe thead tr:only-child th {\n",
       "        text-align: right;\n",
       "    }\n",
       "\n",
       "    .dataframe thead th {\n",
       "        text-align: left;\n",
       "    }\n",
       "\n",
       "    .dataframe tbody tr th {\n",
       "        vertical-align: top;\n",
       "    }\n",
       "</style>\n",
       "<table border=\"1\" class=\"dataframe\">\n",
       "  <thead>\n",
       "    <tr>\n",
       "      <th></th>\n",
       "      <th colspan=\"8\" halign=\"left\">heart_rate</th>\n",
       "      <th colspan=\"8\" halign=\"left\">temperature</th>\n",
       "    </tr>\n",
       "    <tr>\n",
       "      <th></th>\n",
       "      <th>count</th>\n",
       "      <th>mean</th>\n",
       "      <th>std</th>\n",
       "      <th>min</th>\n",
       "      <th>25%</th>\n",
       "      <th>50%</th>\n",
       "      <th>75%</th>\n",
       "      <th>max</th>\n",
       "      <th>count</th>\n",
       "      <th>mean</th>\n",
       "      <th>std</th>\n",
       "      <th>min</th>\n",
       "      <th>25%</th>\n",
       "      <th>50%</th>\n",
       "      <th>75%</th>\n",
       "      <th>max</th>\n",
       "    </tr>\n",
       "    <tr>\n",
       "      <th>gender</th>\n",
       "      <th></th>\n",
       "      <th></th>\n",
       "      <th></th>\n",
       "      <th></th>\n",
       "      <th></th>\n",
       "      <th></th>\n",
       "      <th></th>\n",
       "      <th></th>\n",
       "      <th></th>\n",
       "      <th></th>\n",
       "      <th></th>\n",
       "      <th></th>\n",
       "      <th></th>\n",
       "      <th></th>\n",
       "      <th></th>\n",
       "      <th></th>\n",
       "    </tr>\n",
       "  </thead>\n",
       "  <tbody>\n",
       "    <tr>\n",
       "      <th>F</th>\n",
       "      <td>65.0</td>\n",
       "      <td>74.153846</td>\n",
       "      <td>8.105227</td>\n",
       "      <td>57.0</td>\n",
       "      <td>68.0</td>\n",
       "      <td>76.0</td>\n",
       "      <td>80.0</td>\n",
       "      <td>89.0</td>\n",
       "      <td>65.0</td>\n",
       "      <td>98.393846</td>\n",
       "      <td>0.743488</td>\n",
       "      <td>96.4</td>\n",
       "      <td>98.0</td>\n",
       "      <td>98.4</td>\n",
       "      <td>98.8</td>\n",
       "      <td>100.8</td>\n",
       "    </tr>\n",
       "    <tr>\n",
       "      <th>M</th>\n",
       "      <td>65.0</td>\n",
       "      <td>73.369231</td>\n",
       "      <td>5.875184</td>\n",
       "      <td>58.0</td>\n",
       "      <td>70.0</td>\n",
       "      <td>73.0</td>\n",
       "      <td>78.0</td>\n",
       "      <td>86.0</td>\n",
       "      <td>65.0</td>\n",
       "      <td>98.104615</td>\n",
       "      <td>0.698756</td>\n",
       "      <td>96.3</td>\n",
       "      <td>97.6</td>\n",
       "      <td>98.1</td>\n",
       "      <td>98.6</td>\n",
       "      <td>99.5</td>\n",
       "    </tr>\n",
       "  </tbody>\n",
       "</table>\n",
       "</div>"
      ],
      "text/plain": [
       "       heart_rate                                                     \\\n",
       "            count       mean       std   min   25%   50%   75%   max   \n",
       "gender                                                                 \n",
       "F            65.0  74.153846  8.105227  57.0  68.0  76.0  80.0  89.0   \n",
       "M            65.0  73.369231  5.875184  58.0  70.0  73.0  78.0  86.0   \n",
       "\n",
       "       temperature                                                      \n",
       "             count       mean       std   min   25%   50%   75%    max  \n",
       "gender                                                                  \n",
       "F             65.0  98.393846  0.743488  96.4  98.0  98.4  98.8  100.8  \n",
       "M             65.0  98.104615  0.698756  96.3  97.6  98.1  98.6   99.5  "
      ]
     },
     "execution_count": 3,
     "metadata": {},
     "output_type": "execute_result"
    }
   ],
   "source": [
    "df.groupby('gender').describe()"
   ]
  },
  {
   "cell_type": "code",
   "execution_count": 4,
   "metadata": {},
   "outputs": [
    {
     "data": {
      "text/plain": [
       "98.24923076923078"
      ]
     },
     "execution_count": 4,
     "metadata": {},
     "output_type": "execute_result"
    }
   ],
   "source": [
    "df['temperature'].mean()"
   ]
  },
  {
   "cell_type": "markdown",
   "metadata": {},
   "source": [
    "* The dataset contains 130 samples of temperatures and heart rates equally distributed between males and females. \n",
    "* The formerely presumed average temperature of 98.6F is higher than the sample mean of 98.25F, and also higher than the means for both males and females. How significant are these differences?"
   ]
  },
  {
   "cell_type": "markdown",
   "metadata": {},
   "source": [
    "### 1. Is the distribution of body temperatures normal?"
   ]
  },
  {
   "cell_type": "markdown",
   "metadata": {},
   "source": [
    "Body temperature is a function of a large number of physiological parameters and processes that vary slightly from person to person, which could lead to normally distributed values.\n",
    "\n",
    "** 1.1 Graphical methods **\n",
    "\n",
    " The first semiquantitative inspection for larger deviations from normality can be done using graphical methods.\n",
    "We can start by visually comparing the histogram of the sample data with a normal distribribution having the sample mean and variance:"
   ]
  },
  {
   "cell_type": "code",
   "execution_count": 5,
   "metadata": {},
   "outputs": [
    {
     "data": {
      "text/plain": [
       "(98.24923076923078, 0.54172465597019348, 130)"
      ]
     },
     "execution_count": 5,
     "metadata": {},
     "output_type": "execute_result"
    }
   ],
   "source": [
    "# sample count, sample mean, variance, and standard deviation of body temperature\n",
    "n = df.temperature.count()\n",
    "mu = df.temperature.mean()\n",
    "sig2 = df.temperature.var()*n/(n-1)\n",
    "sig = df.temperature.std()*np.sqrt(n/(n-1))\n",
    "mu, sig2, n"
   ]
  },
  {
   "cell_type": "code",
   "execution_count": 6,
   "metadata": {},
   "outputs": [],
   "source": [
    "# Define normal distribution with a given mean mu, and variance sig2\n",
    "def normal_dist(x, mu, sig2):\n",
    "    return np.exp(-(x-mu)**2/(2.0*sig2))/np.sqrt(2.0*np.pi*sig2)"
   ]
  },
  {
   "cell_type": "code",
   "execution_count": 7,
   "metadata": {},
   "outputs": [
    {
     "data": {
      "text/plain": [
       "<matplotlib.text.Text at 0x11079af98>"
      ]
     },
     "execution_count": 7,
     "metadata": {},
     "output_type": "execute_result"
    },
    {
     "data": {
      "image/png": "[encoded data removed]",
      "text/plain": [
       "<matplotlib.figure.Figure at 0x1106c8470>"
      ]
     },
     "metadata": {},
     "output_type": "display_data"
    }
   ],
   "source": [
    "%matplotlib inline\n",
    "import matplotlib.pyplot as plt\n",
    "\n",
    "plt.hist(df.temperature, bins=20, normed=True, label='Sample histogram')\n",
    "x = np.linspace(96,101,201)\n",
    "plt.plot(x, normal_dist(x, mu, sig2), label='Normal distribution')\n",
    "plt.legend()\n",
    "plt.xlabel('Temperature')\n",
    "plt.ylabel('Relative frequency')"
   ]
  },
  {
   "cell_type": "markdown",
   "metadata": {},
   "source": [
    "* The histogram looks skewed, with a few values between 100 and 101 F that seem out of place. Maybe sick people?\n",
    "\n",
    "A more rigorous graphical tests include P-P (probability-probability) plot, which plots empirical vs. theoretical cummulative distribution functions, and Q-Q (quantile-quantile) plot, which plots empirical vs. theoretical quantile functions. Ideally, samples from a normal distribution should lie on a straight line with the slope of 45 degrees."
   ]
  },
  {
   "cell_type": "code",
   "execution_count": 8,
   "metadata": {
    "collapsed": true
   },
   "outputs": [],
   "source": [
    "# Define Empirical cumulative distribution function needed for P-P plot\n",
    "def ecdf(values):\n",
    "    x = np.sort(values)\n",
    "    y = np.linspace(0,1,x.shape[0])\n",
    "    return x, y"
   ]
  },
  {
   "cell_type": "code",
   "execution_count": 9,
   "metadata": {},
   "outputs": [
    {
     "data": {
      "image/png": "[encoded data removed]",
      "text/plain": [
       "<matplotlib.figure.Figure at 0x1108e5cc0>"
      ]
     },
     "metadata": {},
     "output_type": "display_data"
    }
   ],
   "source": [
    "plt.figure(figsize=(15,5))\n",
    "\n",
    "plt.subplot(131)\n",
    "plt.title('Cumulative distribution functions')\n",
    "# Empirical CDF\n",
    "x, y = ecdf(df.temperature)\n",
    "plt.plot(x, y, label='Empirical CDF')\n",
    "# Normal CDF (=error function)\n",
    "from scipy.special import erf\n",
    "y_normal = 0.5*(1.0 + erf((x - mu)/np.sqrt(2.0*sig2)))\n",
    "plt.plot(x, y_normal, label='Normal CDF')\n",
    "#plt.plot(x_normal, y_normal, label='Normal CDF')\n",
    "plt.xlabel('Temperature')\n",
    "plt.ylabel('CDF')\n",
    "plt.legend()\n",
    "plt.xlim(x.min(), x.max())\n",
    "plt.ylim(0.0, 1.0)\n",
    "\n",
    "plt.subplot(132)\n",
    "plt.title('P-P plot')\n",
    "plt.scatter(y_normal, y, s=2)\n",
    "plt.plot([0,1], [0,1], c='r')\n",
    "plt.xlabel('Theoretical CDF')\n",
    "plt.ylabel('Emprirical CDF')\n",
    "\n",
    "plt.subplot(133)\n",
    "plt.title('Q-Q plot')\n",
    "# - normal quantile function for quantiles defined by the empirical CDF\n",
    "from scipy.stats import norm\n",
    "# x - empirical quantile function\n",
    "# norm.ppf(y) - normal quantile function for percentile values defined by empirical percentiles\n",
    "#plt.scatter(y, x)\n",
    "plt.scatter(norm.ppf(y, loc=mu, scale=np.sqrt(sig2)), x)\n",
    "plt.plot(x, x, c='r')\n",
    "plt.xlabel('Theoretical quantiles')\n",
    "plt.ylabel('Emprirical quantiles')\n",
    "#plt.xlim(x.min(), x.max())\n",
    "plt.tight_layout()"
   ]
  },
  {
   "cell_type": "code",
   "execution_count": 10,
   "metadata": {},
   "outputs": [
    {
     "data": {
      "text/plain": [
       "(0.99485516607293867, 3.630712026632685e-126)"
      ]
     },
     "execution_count": 10,
     "metadata": {},
     "output_type": "execute_result"
    }
   ],
   "source": [
    "from scipy.stats import pearsonr\n",
    "pearsonr(norm.ppf(y, loc=mu, scale=np.sqrt(sig2))[1:-2], x[1:-2])"
   ]
  },
  {
   "cell_type": "markdown",
   "metadata": {},
   "source": [
    "* The graphical methods indicate that the sample closely resembles a sample from the normal distribution. Pearson coefficient based on the Q-Q plot is ~0.995, confirming nearly linear correlation between the empirical and theoretical quantile functions.\n",
    "\n",
    "** 1.2 Quantitative normality tests - frequentist methods **\n",
    "\n",
    "There are a number of frequentist hypothesis tests with the null hypothesis being that the samples were obtained from a normal distribution. Based on published comparisons, Shapiro-Wilk test has been found to have the highest statistical power (correctly rejects false null hypothesis - minimizes Type II error). We also try two other tests: Anderson-Darling, and Kolmogorov-Smirnov."
   ]
  },
  {
   "cell_type": "code",
   "execution_count": 11,
   "metadata": {},
   "outputs": [
    {
     "name": "stdout",
     "output_type": "stream",
     "text": [
      "Shapiro-Wilk statistic: 0.9865770936012268\n",
      "Shapiro-Wilk p-value: 0.233174666762352\n"
     ]
    }
   ],
   "source": [
    "from scipy.stats import shapiro, anderson, kstest\n",
    "print(\"Shapiro-Wilk statistic:\", shapiro(df.temperature)[0])\n",
    "print(\"Shapiro-Wilk p-value:\", shapiro(df.temperature)[1])"
   ]
  },
  {
   "cell_type": "markdown",
   "metadata": {},
   "source": [
    "** Result:** Based on the p-value of ~0.23 and the typical significance level alpha = 0.05, we cannot reject the null hypothesis that the sample comes from the normal distribution."
   ]
  },
  {
   "cell_type": "code",
   "execution_count": 12,
   "metadata": {},
   "outputs": [
    {
     "name": "stdout",
     "output_type": "stream",
     "text": [
      "Anderson-Darling statistic: 0.520103882671\n",
      "Anderson-Darling critical values: [ 0.56   0.637  0.765  0.892  1.061]\n",
      "Anderson-Darling significance level: [ 15.   10.    5.    2.5   1. ]\n"
     ]
    }
   ],
   "source": [
    "print(\"Anderson-Darling statistic:\", anderson(df.temperature)[0])\n",
    "print(\"Anderson-Darling critical values:\", anderson(df.temperature)[1])\n",
    "print(\"Anderson-Darling significance level:\", anderson(df.temperature)[2])"
   ]
  },
  {
   "cell_type": "markdown",
   "metadata": {},
   "source": [
    "** Result: ** The A-D statistic is smaller than all shown critical values. Even at 15% (0.15) significance level, we could not reject the null hypothesis (normality)."
   ]
  },
  {
   "cell_type": "code",
   "execution_count": 13,
   "metadata": {},
   "outputs": [
    {
     "name": "stdout",
     "output_type": "stream",
     "text": [
      "Kolmogorov-Smirnov statistic: 0.0655987486494\n",
      "Kolmogorov-Smirnov p-value: 0.625884398447\n"
     ]
    }
   ],
   "source": [
    "print(\"Kolmogorov-Smirnov statistic:\", kstest(df.temperature, 'norm', args=(mu, np.sqrt(sig2)))[0])\n",
    "print(\"Kolmogorov-Smirnov p-value:\", kstest(df.temperature, 'norm', args=(mu, np.sqrt(sig2)))[1])"
   ]
  },
  {
   "cell_type": "markdown",
   "metadata": {},
   "source": [
    "** Result: ** The p-value for the K-S test also strongly suggests that we should not reject the null hypothesis. The p-value is larger than for the S-W test -> K-S seems more permissive."
   ]
  },
  {
   "cell_type": "markdown",
   "metadata": {},
   "source": [
    "### 2. Is the sample size large? Are the observations independent?"
   ]
  },
  {
   "cell_type": "markdown",
   "metadata": {},
   "source": [
    "The answer depends on the task we want to accomplish and the properties of the population distribution. In the present case, our distribution is symmetric, unimodal, and without significant outliers. Based on the previous analysis, the population distribution also satisfies various measures of normality.\n",
    "\n",
    "As a rule of thumb for normally distributed populations, sample size of n $\\ge 30$ is generally considered sufficiently large.\n",
    "\n",
    "For a given task of estimating population mean (e.g., average temperature) with a given confidence, we can proceed more quantiatively. The standard error of the estimate is given as $\\frac{\\sigma}{\\sqrt{n}}$. In our case we take the sample number n = 130.\n",
    "\n",
    "If we assume that the population std is equal to sample std, we can use normal distribution to determine 95% confidence interval as being within approximately $1.96\\sigma$ from the mean."
   ]
  },
  {
   "cell_type": "code",
   "execution_count": 14,
   "metadata": {},
   "outputs": [
    {
     "data": {
      "text/plain": [
       "0.12652422809562219"
      ]
     },
     "execution_count": 14,
     "metadata": {},
     "output_type": "execute_result"
    }
   ],
   "source": [
    "1.96*(sig2/n)**0.5"
   ]
  },
  {
   "cell_type": "markdown",
   "metadata": {},
   "source": [
    "* With 95% confidence, the sample mean will lie within $\\pm0.126$ F from the population mean.\n",
    "\n",
    "However, since we do not know the true population mean, a more accurate confidence interval estimate should be based on the t-distribution rather than the normal distribution. For the given sample size of n=130, the t-distribution is close to the normal distribution, with the 95% confidence interval values lying within $\\pm 2s$ where $s$ is the sample standard deviation.\n"
   ]
  },
  {
   "cell_type": "code",
   "execution_count": 15,
   "metadata": {},
   "outputs": [
    {
     "data": {
      "text/plain": [
       "0.1291063551996145"
      ]
     },
     "execution_count": 15,
     "metadata": {},
     "output_type": "execute_result"
    }
   ],
   "source": [
    "2.0*(sig2/n)**0.5"
   ]
  },
  {
   "cell_type": "markdown",
   "metadata": {},
   "source": [
    "* More accurately, with 95% confidence, the sample mean will lie within $\\pm0.13$ F from the population mean."
   ]
  },
  {
   "cell_type": "markdown",
   "metadata": {},
   "source": [
    "** Summary ** If we want our population mean estimate lie within 0.13 F from the true mean with 95% confidence, than our sample size is large enough. Higer precision or confidence will require larger samples. Given that the difference between the sample mean of 98.25 F and the historical value of 98.6 F is larger than 0.13 F, the sample size should be large enough for testing related hypotheses."
   ]
  },
  {
   "cell_type": "markdown",
   "metadata": {},
   "source": [
    "** Are the observations independent? **\n",
    "* According to the linked source \"Data were constructed to match as closely as possible the histograms and summary statistics presented in that article.\"\n",
    "* While the sample selection process was not completely random and independent (as certain combinations of samples were preferred), we can assume that the process was controlled not to introduce bias and spurious correlations, and the observations in the dataset can be considered independent for our purposes.\n"
   ]
  },
  {
   "cell_type": "markdown",
   "metadata": {},
   "source": [
    "### 3. Is the true population mean really 98.6 degrees F?\n",
    "\n",
    "** 3.1 Bootstrap hypothesis test **\n",
    "\n",
    "Function for generating a given number of bootstrap samples:"
   ]
  },
  {
   "cell_type": "code",
   "execution_count": 16,
   "metadata": {
    "collapsed": true
   },
   "outputs": [],
   "source": [
    "def bootstrap(in_array, bs_number=1):\n",
    "    \n",
    "    bs_samples = []\n",
    "    for _ in range(bs_number):\n",
    "        bs_samples.append(np.random.choice(in_array, size=len(in_array)))\n",
    "                          \n",
    "    return np.array(bs_samples)    "
   ]
  },
  {
   "cell_type": "markdown",
   "metadata": {},
   "source": [
    "Generate bootstrap samples, estimate population mean with its error, and calculate the p-value for historical temperature"
   ]
  },
  {
   "cell_type": "code",
   "execution_count": 17,
   "metadata": {},
   "outputs": [
    {
     "name": "stdout",
     "output_type": "stream",
     "text": [
      "Bootstrap estimates\n",
      "Mean: 98.2481405385 \n",
      "Standard deviation: 0.0634375747796\n",
      "Original samples\n",
      "Mean: 98.24923076923078 \n",
      "Standard error of mean: 0.0645531775998\n",
      "P-value 0.0\n"
     ]
    }
   ],
   "source": [
    "# Generate 10000 bootstrap samples from the measured data\n",
    "bs_samples = bootstrap(df.temperature, bs_number=10000)\n",
    "\n",
    "# Calculate means of bs_samples\n",
    "bs_means = np.mean(bs_samples, axis=1)\n",
    "\n",
    "# Calculate the mean and standard deviation of the sample mean distribution from bootstrap and original data\n",
    "print('Bootstrap estimates\\nMean:', bs_means.mean(), '\\nStandard deviation:', bs_means.std())\n",
    "print('Original samples\\nMean:', mu, '\\nStandard error of mean:', sig2**0.5/np.sqrt(n))\n",
    "\n",
    "# Set historical value to be tested\n",
    "temp_hist = 98.6 # Fahrenheit\n",
    "\n",
    "# Calculate p-value from the bootstrap samples\n",
    "pvalue = np.sum(bs_means >= temp_hist)/len(bs_means)\n",
    "print('P-value', pvalue)"
   ]
  },
  {
   "cell_type": "markdown",
   "metadata": {},
   "source": [
    "** Summary **\n",
    "\n",
    "The negligible p-value (none of the bootstrap samples reached the historical value) indicates that we should reject the hypothesis that the true population mean is the historical value of 98.6 F."
   ]
  },
  {
   "cell_type": "markdown",
   "metadata": {},
   "source": [
    "** 3.2 Frequentist statistical testing **\n",
    "\n",
    "**Q:** Would you use a one-sample or two-sample test? Why?\n",
    "\n",
    "**A:** We only have one sample because the historical temperature value is given only as a number (mean), so we can perform only the one-sample test.\n",
    "\n",
    "**Q:** In this situation, is it appropriate to use the  t  or  z  statistic?\n",
    "\n",
    "**A:** Z-statistic assumes known population variance. Since we do not know it, and therefore have to estimated from the data, t-statistc is the correct choice. (although the difference can be expected to be small)\n",
    "\n",
    "As already determined using in Section 2 using t-distribution, the population mean lies within 0.13 F from the sample mean with 95% confidence.\n",
    "\n",
    "In t-test, the null hypothesis (the population mean is the historical value) is rejected if the t-value is larger than the critical value for a given significance level $\\alpha$. Here we assume $\\alpha = 0.05$."
   ]
  },
  {
   "cell_type": "code",
   "execution_count": 18,
   "metadata": {},
   "outputs": [
    {
     "name": "stdout",
     "output_type": "stream",
     "text": [
      "t-value: -5.43380270052\n"
     ]
    }
   ],
   "source": [
    "# t-value\n",
    "t_value = (mu - temp_hist)/(sig/np.sqrt(n))\n",
    "print('t-value:', t_value)"
   ]
  },
  {
   "cell_type": "markdown",
   "metadata": {},
   "source": [
    "**A:** For a given degrees of freedom $n-1 = 129$, the critical value for $\\alpha = 0.05$ is 1.98 units (based on tabulated values). The absolute value of t-value is much larger. In fact, the null hypothesis can be rejected with significance level smaller than 0.001, i.e., with higher than 99.9% confidence."
   ]
  },
  {
   "cell_type": "markdown",
   "metadata": {},
   "source": [
    "**Q:** Now try using the other test (z-test). How is the result be different? Why?\n",
    "\n",
    "**A:** We don't know the population variance. If we substitute the sample variance and use the normal distribution to determine the critical values for the same significance level, we get 1.96. The value is only slightly smaller, because for the given degrees of freedom the t-distribution is close to the normal one. In this case, both tests give the same result - reject null, but finding critical values for z-test is somewhat easier."
   ]
  },
  {
   "cell_type": "markdown",
   "metadata": {},
   "source": [
    "### 4. Small sample analysis\n",
    "\n",
    "**Q:** Draw a small sample of size 10 from the data and repeat both frequentist tests. Which one is the correct one to use? What do you notice? What does this tell you about the difference in application of the  tt  and  zz  statistic?"
   ]
  },
  {
   "cell_type": "code",
   "execution_count": 19,
   "metadata": {},
   "outputs": [
    {
     "name": "stdout",
     "output_type": "stream",
     "text": [
      "[ 97.8  96.3  96.9  98.8  97.1  98.6  98.   97.9  98.   98.2]\n"
     ]
    }
   ],
   "source": [
    "small_samples = np.random.choice(df.temperature, size=10, replace=False)\n",
    "print(small_samples)"
   ]
  },
  {
   "cell_type": "markdown",
   "metadata": {},
   "source": [
    "The correct test is the t-test, since the deviations of the t-distribution from normality will be significant."
   ]
  },
  {
   "cell_type": "code",
   "execution_count": 20,
   "metadata": {},
   "outputs": [
    {
     "name": "stdout",
     "output_type": "stream",
     "text": [
      "t-value: -3.5928792749\n",
      "z-value: -3.60902578428\n"
     ]
    }
   ],
   "source": [
    "# Calculate small sample statistics\n",
    "mu_s = np.mean(small_samples)\n",
    "sig_s = np.std(small_samples)*np.sqrt(n/(n-1))\n",
    "t_value_s = (mu_s - temp_hist)/(sig_s/np.sqrt(len(small_samples)))\n",
    "print('t-value:', t_value_s)\n",
    "z_value_s = (mu_s - temp_hist)/(sig/np.sqrt(len(small_samples)))\n",
    "print('z-value:', z_value_s)"
   ]
  },
  {
   "cell_type": "markdown",
   "metadata": {},
   "source": [
    "Here the z-value was calculated with the population standard deviation approximated from the previously determined large sample standard deviation.\n",
    "The t-test critical values for small samples are larger. For $\\alpha=0.05$ the value is 2.228, while the z-test critical value is the same as before (1.96). The z-values are also smaller, which may lead to higher acceptance of false null hypotheses (Type II error).\n",
    "\n",
    "The t-value is close to the critical value, so the null hypothesis can be rejected only with lower confidence (~90%)"
   ]
  },
  {
   "cell_type": "markdown",
   "metadata": {},
   "source": [
    "### 5. What can be considered \"abnormal\" temperature?\n",
    "\n",
    "** Q: ** As in the previous example, try calculating everything using the boostrap approach, as well as the frequentist approach. Start by computing the margin of error and confidence interval. When calculating the confidence interval, keep in mind that you should use the appropriate formula for one draw, and not N draws.\n",
    "\n",
    "** A: ** Conventionally, for normally distributed data, a point more than three standard deviations from the mean can be considered an outlier as only 0.3% should fall into this category."
   ]
  },
  {
   "cell_type": "markdown",
   "metadata": {},
   "source": [
    "Margin of errror:\n",
    "\n",
    "For 95% and 99.7% confidence (with the critical values 1.96 and 3, respectively) and the sample standard deviation, we get the margins of error (for one draw)"
   ]
  },
  {
   "cell_type": "code",
   "execution_count": 21,
   "metadata": {},
   "outputs": [
    {
     "name": "stdout",
     "output_type": "stream",
     "text": [
      "Margin of error for 95% confidence: 1.44259815554 F\n",
      "Margin of error for 99.7% confidence: 2.20805840134 F\n"
     ]
    }
   ],
   "source": [
    "moe = 1.96*sig\n",
    "print('Margin of error for 95% confidence:', moe, 'F')\n",
    "moe = 3.0*sig\n",
    "print('Margin of error for 99.7% confidence:', moe, 'F')"
   ]
  },
  {
   "cell_type": "markdown",
   "metadata": {},
   "source": [
    "With 95% confidence a newly measured value will lie within 1.44 F from the mean value, although truly abnormal values could be considered those beyond 2.2 F from the mean."
   ]
  },
  {
   "cell_type": "code",
   "execution_count": 22,
   "metadata": {},
   "outputs": [
    {
     "data": {
      "text/plain": [
       "116    100.8\n",
       "Name: temperature, dtype: float64"
      ]
     },
     "execution_count": 22,
     "metadata": {},
     "output_type": "execute_result"
    }
   ],
   "source": [
    "df.temperature.loc[np.abs(df.temperature - mu)/sig > 3.0]"
   ]
  },
  {
   "cell_type": "markdown",
   "metadata": {},
   "source": [
    "Based on the $3\\sigma$ criterion, one value of the whole sample (100.8 F) could be considered abnormal. Temperature this high is usually associated with hyperthermia condition or fever."
   ]
  },
  {
   "cell_type": "markdown",
   "metadata": {},
   "source": [
    "Bootstrap test - find $3\\sigma$ "
   ]
  },
  {
   "cell_type": "code",
   "execution_count": 23,
   "metadata": {},
   "outputs": [
    {
     "name": "stdout",
     "output_type": "stream",
     "text": [
      "(10000, 130) (10000,)\n",
      "Three sigma temperature deviation from the mean: 2.17517888332 F\n",
      "Percentage of such abnormal values: 0.753538461538 %\n"
     ]
    }
   ],
   "source": [
    "# generate bootstrap samples\n",
    "bs_samples = bootstrap(df.temperature, bs_number=10000)\n",
    "bs_means = np.mean(bs_samples, axis=1)\n",
    "bs_stds = np.std(bs_samples, axis=1)\n",
    "print(bs_samples.shape, bs_means.shape)\n",
    "\n",
    "sums = []\n",
    "for i in range(len(bs_samples)):\n",
    "    sums.append(np.sum(np.abs(bs_samples[i] - bs_means[i]) > 3.0*bs_stds[i])/len(bs_samples[i]))\n",
    "\n",
    "print('Three sigma temperature deviation from the mean:', 3.0*np.sum(bs_stds)/len(bs_stds), 'F')\n",
    "print('Percentage of such abnormal values:', np.sum(np.array(sums))/len(sums)*100, '%')"
   ]
  },
  {
   "cell_type": "markdown",
   "metadata": {},
   "source": [
    "The bootstrap values roughly match the margin of errors determined above, although the frequency is about twice larger (0.75% vs expected 0.3%). "
   ]
  },
  {
   "cell_type": "markdown",
   "metadata": {},
   "source": [
    "### 6.  Is there a significant difference between males and females in normal temperature?\n",
    "\n",
    "**Q:** What testing approach did you use and why?\n",
    "\n",
    "**A:** We want to test the test the hypothesis that the male and female data have different mean tempeartures. The null hypothesis being that they are the same. Since we are comparing to independent samples, it is appropriate to use the independent two-sample t-test (a.k.a Welch's t-test)."
   ]
  },
  {
   "cell_type": "code",
   "execution_count": 24,
   "metadata": {},
   "outputs": [
    {
     "name": "stdout",
     "output_type": "stream",
     "text": [
      "65 65 98.1046153846154 98.39384615384613 0.495888671875 0.561411132812\n"
     ]
    }
   ],
   "source": [
    "# samples, means, and unbiased variances for males and females\n",
    "temp_m = df['temperature'].loc[df.gender == 'M']\n",
    "temp_f = df['temperature'].loc[df.gender == 'F']\n",
    "n_m = temp_m.count()\n",
    "n_f = temp_f.count()\n",
    "mu_m = temp_m.mean()\n",
    "mu_f = temp_f.mean()\n",
    "var_m = temp_m.var()*(n_m/(n_m-1))\n",
    "var_f = temp_f.var()*(n_f/(n_f-1))\n",
    "print(n_m, n_f, mu_m, mu_f, var_m, var_f)"
   ]
  },
  {
   "cell_type": "markdown",
   "metadata": {},
   "source": [
    "The critical value can be calculated from t-distribution based on the calculated degrees of freedom, $\\nu$"
   ]
  },
  {
   "cell_type": "code",
   "execution_count": 25,
   "metadata": {},
   "outputs": [
    {
     "name": "stdout",
     "output_type": "stream",
     "text": [
      "Degrees of freedom: 127.51030083\n",
      "t-value -2.2677861309\n"
     ]
    }
   ],
   "source": [
    "# degrees of freedom\n",
    "nu = (var_m/n_m + var_f/n_f)**2/((var_m/n_m)**2/(n_m-1) + (var_f/n_f)**2/(n_f-1))\n",
    "print('Degrees of freedom:', nu)\n",
    "# t-value\n",
    "t_2sample = (mu_m - mu_f)/np.sqrt(var_m/n_m + var_f/n_f)\n",
    "print('t-value', t_2sample)"
   ]
  },
  {
   "cell_type": "markdown",
   "metadata": {},
   "source": [
    "**A:** The absolute t-value is larger than the critical value for 96% confidence interval and the given degrees of freedom. We can reject the null hypothesis of the same male and female average tempearatures with 95% confidence. Accordig to the t-test tables, less than 2% samples with the same mean temperatures will exhibit male temperatures lower by 0.29F or more than the female temperatures."
   ]
  },
  {
   "cell_type": "markdown",
   "metadata": {},
   "source": [
    "Bootstrap test of the hypothesis that men's average temperature is lower than women's. Null being that it is the same."
   ]
  },
  {
   "cell_type": "code",
   "execution_count": 26,
   "metadata": {},
   "outputs": [
    {
     "name": "stdout",
     "output_type": "stream",
     "text": [
      "Difference of means: -0.289230769230727 \n",
      "Mean of differences: -0.00168769230773\n",
      "P-value 0.0116\n"
     ]
    }
   ],
   "source": [
    "mean_dif = mu_m - mu_f\n",
    "\n",
    "# shift female data so that the means coincide\n",
    "temp_f_shifted = temp_f - mu_f + mu_m\n",
    "\n",
    "# bootstrap means from male and female data\n",
    "bs_mean_m = np.mean(bootstrap(temp_m.values, bs_number=10000), axis=1)\n",
    "bs_mean_f = np.mean(bootstrap(temp_f_shifted.values, bs_number=10000), axis=1)\n",
    "\n",
    "# calculate the differences between the bootstrap means for male and shifted female samples\n",
    "bs_mean_dif = bs_mean_m - bs_mean_f\n",
    "print('Difference of means:', mean_dif, '\\nMean of differences:', np.mean(bs_mean_m - bs_mean_f))\n",
    "\n",
    "# p-value: fraction of mean differences same or larger than mean_dif\n",
    "pvalue = np.sum(bs_mean_dif <= mean_dif)/len(bs_mean_dif)\n",
    "print('P-value', pvalue)"
   ]
  },
  {
   "cell_type": "markdown",
   "metadata": {},
   "source": [
    "**A:** The bootstrap test suggests that only around 1% of avearage temperature differences between males and females reach or exceed the value found in the data, suggesting that the null hypothesis likely does not hold "
   ]
  },
  {
   "cell_type": "markdown",
   "metadata": {},
   "source": [
    "**Q:** Write a story with your conclusion in the context of the original problem.\n",
    "\n",
    "**A:** Interestingly, many recent studies found female temperatures slightly lower than that of males."
   ]
  },
  {
   "cell_type": "code",
   "execution_count": 27,
   "metadata": {},
   "outputs": [
    {
     "data": {
      "text/plain": [
       "<matplotlib.text.Text at 0x11275e780>"
      ]
     },
     "execution_count": 27,
     "metadata": {},
     "output_type": "execute_result"
    },
    {
     "data": {
      "image/png": "[encoded data removed]",
      "text/plain": [
       "<matplotlib.figure.Figure at 0x1108e57f0>"
      ]
     },
     "metadata": {},
     "output_type": "display_data"
    }
   ],
   "source": [
    "plt.hist(temp_m, bins=20, normed=True, label='Males', alpha=0.5)\n",
    "plt.hist(temp_f, bins=20, normed=True, label='Females', alpha=0.5)\n",
    "plt.legend()\n",
    "plt.xlabel('Temperature')\n",
    "plt.ylabel('Relative frequency')"
   ]
  },
  {
   "cell_type": "markdown",
   "metadata": {},
   "source": [
    "The higher average female temperatures seem mainly as the result of the samples around 100-101 F.\n",
    "There may be various sources of variation and bias in the sample, which may include sick people, sampling women at different phases of the monthly cycle, or different racial composition of the samples (black women have been found to have statistically significant higher temperatures than white ones)."
   ]
  },
  {
   "cell_type": "code",
   "execution_count": null,
   "metadata": {
    "collapsed": true
   },
   "outputs": [],
   "source": []
  }
 ],
 "metadata": {
  "kernelspec": {
   "display_name": "Python 3",
   "language": "python",
   "name": "python3"
  },
  "language_info": {
   "codemirror_mode": {
    "name": "ipython",
    "version": 3
   },
   "file_extension": ".py",
   "mimetype": "text/x-python",
   "name": "python",
   "nbconvert_exporter": "python",
   "pygments_lexer": "ipython3",
   "version": "3.6.1"
  }
 },
 "nbformat": 4,
 "nbformat_minor": 1
}
